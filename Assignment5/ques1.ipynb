{
 "cells": [
  {
   "cell_type": "code",
   "execution_count": 2,
   "metadata": {},
   "outputs": [],
   "source": [
    "# dataset location\n",
    "train_dataset_path = '/home/arka/Desktop/assignments/ic272/Assignment5/cifar-3class-data/train'\n",
    "test_dataset_path = '/home/arka/Desktop/assignments/ic272/Assignment5/cifar-3class-data/test'"
   ]
  },
  {
   "cell_type": "code",
   "execution_count": null,
   "metadata": {},
   "outputs": [],
   "source": [
    "# imports\n",
    "import tensorflow as tf\n",
    "import numpy as np\n",
    "import matplotlib.pyplot as plt\n",
    "import os\n",
    "from PIL import Image\n",
    "from sklearn.model_selection import train_test_split"
   ]
  },
  {
   "cell_type": "code",
   "execution_count": 23,
   "metadata": {},
   "outputs": [],
   "source": [
    "classes = ['aeroplane', 'car', 'bird']\n",
    "def import_from_directory(_path):\n",
    "    images = []\n",
    "\n",
    "    for idx, lbl in enumerate(classes):\n",
    "        path = os.path.join(_path, str(idx))\n",
    "        for img in os.listdir(path):\n",
    "            im_path = os.path.join(path, img)\n",
    "            img = np.asarray(Image.open(im_path).convert('L'))\n",
    "            images.append(img)\n",
    "            \n",
    "    images = np.array(images)\n",
    "    count = images.shape[0]//3\n",
    "    labels = np.array([0]*count + [1]*count + [2]*count)\n",
    "    return images, labels\n",
    "# dataset = tf.data.Dataset.from_tensor_slices((train_images, train_labels))"
   ]
  },
  {
   "cell_type": "code",
   "execution_count": null,
   "metadata": {},
   "outputs": [],
   "source": [
    "images = np.random.randint(0, 1501, 4)\n",
    "images"
   ]
  },
  {
   "cell_type": "code",
   "execution_count": 25,
   "metadata": {},
   "outputs": [],
   "source": [
    "train_images, train_labels = import_from_directory(train_dataset_path)"
   ]
  },
  {
   "cell_type": "code",
   "execution_count": null,
   "metadata": {},
   "outputs": [],
   "source": [
    "# plot 4 random images\n",
    "fig, ax = plt.subplots(1, 4, figsize=(20, 20))\n",
    "for i in range(4):\n",
    "    ax[i].imshow(train_images[images[i]])\n",
    "    ax[i].set_title(classes[train_labels[images[i]]])\n",
    "    ax[i].axis('off')\n",
    "plt.show()"
   ]
  },
  {
   "cell_type": "code",
   "execution_count": 24,
   "metadata": {},
   "outputs": [],
   "source": [
    "im_train, im_cv, lbl_train, lbl_cv = train_test_split(train_images, train_labels, test_size=0.1)"
   ]
  },
  {
   "cell_type": "code",
   "execution_count": 28,
   "metadata": {},
   "outputs": [
    {
     "name": "stdout",
     "output_type": "stream",
     "text": [
      "\n",
      "Train ds size: Images (1350, 32, 32); Labels (1350,)\n",
      "CV ds size: Images (150, 32, 32); Labels (150,)\n",
      "\n"
     ]
    }
   ],
   "source": [
    "print(f'''\n",
    "Train ds size: Images {im_train.shape}; Labels {lbl_train.shape}\n",
    "CV ds size: Images {im_cv.shape}; Labels {lbl_cv.shape}\n",
    "''')"
   ]
  },
  {
   "cell_type": "code",
   "execution_count": 10,
   "metadata": {},
   "outputs": [],
   "source": [
    "# flatten images\n",
    "im_train = im_train.reshape(1350, 1024)\n",
    "im_cv = im_cv.reshape(150, 1024)"
   ]
  },
  {
   "cell_type": "code",
   "execution_count": 11,
   "metadata": {},
   "outputs": [],
   "source": [
    "# normalise\n",
    "im_train = im_train/255\n",
    "im_cv = im_cv/255"
   ]
  },
  {
   "cell_type": "code",
   "execution_count": null,
   "metadata": {},
   "outputs": [],
   "source": [
    "model = tf.keras.Sequential([\n",
    "    tf.keras.layers.Input(shape=(1024,)),\n",
    "    tf.keras.layers.Dense(units=256, activation='relu'),\n",
    "    tf.keras.layers.Dense(units=128, activation='relu'),\n",
    "    tf.keras.layers.Dense(units=64, activation='relu'),\n",
    "    tf.keras.layers.Dense(units=3, activation='softmax')\n",
    "])"
   ]
  },
  {
   "cell_type": "code",
   "execution_count": null,
   "metadata": {},
   "outputs": [],
   "source": [
    "model.summary()"
   ]
  },
  {
   "cell_type": "code",
   "execution_count": 14,
   "metadata": {},
   "outputs": [],
   "source": [
    "model.compile(optimizer='adam', \n",
    "              loss='sparse_categorical_crossentropy', \n",
    "              metrics=[tf.keras.metrics.SparseCategoricalAccuracy()])\n"
   ]
  },
  {
   "cell_type": "code",
   "execution_count": null,
   "metadata": {},
   "outputs": [],
   "source": [
    "history = model.fit(im_train, lbl_train, \n",
    "                    epochs=500, \n",
    "                    batch_size=200,\n",
    "                    validation_data=(im_cv, lbl_cv))"
   ]
  },
  {
   "cell_type": "code",
   "execution_count": null,
   "metadata": {},
   "outputs": [],
   "source": [
    "history.history.keys()"
   ]
  },
  {
   "cell_type": "code",
   "execution_count": null,
   "metadata": {},
   "outputs": [],
   "source": [
    "fig, ax = plt.subplots(1, 2, figsize=(20, 10))\n",
    "ax[0].plot(history.history['loss'], label='train loss')\n",
    "ax[0].plot(history.history['val_loss'], label='cv loss')\n",
    "ax[0].set_title('Loss vs epochs')\n",
    "ax[0].set_ylabel('Loss')\n",
    "ax[0].set_xlabel('Epochs')\n",
    "ax[0].legend()\n",
    "\n",
    "ax[1].plot(history.history['sparse_categorical_accuracy'], label='train accuracy')\n",
    "ax[1].plot(history.history['val_sparse_categorical_accuracy'], label='cv accuracy')\n",
    "ax[1].set_title('Accuracy vs epochs')\n",
    "ax[1].set_ylabel('Accuracy')\n",
    "ax[1].set_xlabel('Epochs')\n",
    "ax[1].legend()\n",
    "\n",
    "plt.show()"
   ]
  },
  {
   "cell_type": "code",
   "execution_count": 19,
   "metadata": {},
   "outputs": [],
   "source": [
    "model.save_weights(filepath='/home/arka/Desktop/assignments/ic272/Assignment5/weights_fcc.weights.h5')"
   ]
  },
  {
   "cell_type": "code",
   "execution_count": 29,
   "metadata": {},
   "outputs": [],
   "source": [
    "test_images, test_labels = import_from_directory(test_dataset_path)"
   ]
  },
  {
   "cell_type": "code",
   "execution_count": 30,
   "metadata": {},
   "outputs": [
    {
     "data": {
      "text/plain": [
       "(300, 32, 32)"
      ]
     },
     "execution_count": 30,
     "metadata": {},
     "output_type": "execute_result"
    }
   ],
   "source": [
    "test_images.shape"
   ]
  },
  {
   "cell_type": "code",
   "execution_count": 31,
   "metadata": {},
   "outputs": [],
   "source": [
    "test_images = test_images.reshape(300, 1024)\n",
    "test_images = test_images/255"
   ]
  },
  {
   "cell_type": "code",
   "execution_count": 36,
   "metadata": {},
   "outputs": [
    {
     "name": "stdout",
     "output_type": "stream",
     "text": [
      "\u001b[1m10/10\u001b[0m \u001b[32m━━━━━━━━━━━━━━━━━━━━\u001b[0m\u001b[37m\u001b[0m \u001b[1m0s\u001b[0m 2ms/step - loss: 2.5836 - sparse_categorical_accuracy: 0.6538 \n"
     ]
    }
   ],
   "source": [
    "test_loss, test_accuracy = model.evaluate(test_images, test_labels)"
   ]
  },
  {
   "cell_type": "code",
   "execution_count": 38,
   "metadata": {},
   "outputs": [
    {
     "name": "stdout",
     "output_type": "stream",
     "text": [
      "Test loss: 2.271\n",
      "Test accuracy: 0.690\n"
     ]
    }
   ],
   "source": [
    "print(f'Test loss: {test_loss:.3f}\\nTest accuracy: {test_accuracy:.3f}')"
   ]
  },
  {
   "cell_type": "code",
   "execution_count": null,
   "metadata": {},
   "outputs": [],
   "source": []
  }
 ],
 "metadata": {
  "kernelspec": {
   "display_name": "Python 3",
   "language": "python",
   "name": "python3"
  },
  "language_info": {
   "codemirror_mode": {
    "name": "ipython",
    "version": 3
   },
   "file_extension": ".py",
   "mimetype": "text/x-python",
   "name": "python",
   "nbconvert_exporter": "python",
   "pygments_lexer": "ipython3",
   "version": "3.10.12"
  }
 },
 "nbformat": 4,
 "nbformat_minor": 2
}
